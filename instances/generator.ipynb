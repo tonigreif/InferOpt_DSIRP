{
 "cells": [
  {
   "cell_type": "code",
   "execution_count": 1,
   "id": "75e84ce4-08dc-4ec4-9349-4a896bb7c33b",
   "metadata": {},
   "outputs": [],
   "source": [
    "from uuid import uuid4\n",
    "from datetime import datetime\n",
    "import numpy as np\n",
    "import json\n",
    "import matplotlib.pyplot as plt\n",
    "from matplotlib.pyplot import figure\n",
    "import math\n",
    "import os\n",
    "import pandas as pd\n",
    "from pathlib import Path\n",
    "from scipy.stats import truncnorm, norm, uniform\n",
    "from types import SimpleNamespace"
   ]
  },
  {
   "cell_type": "code",
   "execution_count": 2,
   "id": "24657be7-d20e-4130-8f2f-01c79d881de7",
   "metadata": {},
   "outputs": [],
   "source": [
    "class NpEncoder(json.JSONEncoder):\n",
    "    def default(self, obj):\n",
    "        if isinstance(obj, np.integer):\n",
    "            return int(obj)\n",
    "        elif isinstance(obj, np.ndarray):\n",
    "            return obj.tolist()"
   ]
  },
  {
   "cell_type": "code",
   "execution_count": 4,
   "id": "c59fe271-3d8e-48b3-ae85-11e785953fc2",
   "metadata": {},
   "outputs": [],
   "source": [
    "class Instance():\n",
    "    def __init__(self, pattern='normal', nb_cst = 50):\n",
    "        \n",
    "        self.idx = pattern + '-' + str(nb_cst) + '_' + datetime.now().strftime('%Y%m-%d%H-%M%S-') + str(uuid4())\n",
    "\n",
    "        # Instance features\n",
    "        self.nb_cst = nb_cst\n",
    "        if pattern in ['normal', 'uniform']:\n",
    "            self.nb_features = 0\n",
    "\n",
    "        # Customer features\n",
    "        self.mean_demand = np.random.randint(10, 101, nb_cst)\n",
    "        self.std_demand = np.random.randint(2, 11, nb_cst)\n",
    "        self.max_inventory = (np.random.randint(2, 5, nb_cst) * self.mean_demand)\n",
    "        self.holding_cost = np.random.uniform(0.02, 0.1, nb_cst)\n",
    "\n",
    "        # Vehicle capacity\n",
    "        total_vehicle_capacity = (3/2) * np.sum(self.mean_demand)\n",
    "        self.vehicle_capacity = np.ceil(total_vehicle_capacity).astype(int)\n",
    "\n",
    "        # Coordinates\n",
    "        x = np.floor(np.random.rand(nb_cst + 1) * 500)\n",
    "        self.x = (x[1:] - x[0]).astype(int)\n",
    "        y = np.floor(np.random.rand(nb_cst + 1) * 500)\n",
    "        self.y = (y[1:] - y[0]).astype(int)\n",
    "    \n",
    "    def create(self):\n",
    "        \n",
    "        pattern = self.idx.split('-')[0]\n",
    "        if pattern == 'normal':\n",
    "            lower, upper = 0, np.array(self.max_inventory)\n",
    "            mu, sigma = np.array(self.mean_demand), np.array(self.std_demand)\n",
    "            rv = truncnorm((lower - mu) / sigma, (upper - mu) / sigma, loc=mu, scale=sigma)\n",
    "        elif pattern == 'uniform' :   \n",
    "            rv = uniform(0, 0.5 * np.array(instance.max_inventory))\n",
    "            delattr(self, \"mean_demand\")\n",
    "            delattr(self, \"std_demand\")\n",
    "            \n",
    "    \n",
    "        setattr(self, \"demand_hist\", rv.rvs((50, instance.nb_cst)).transpose())\n",
    "        setattr(self, \"demand_eval\", rv.rvs((10, 5, instance.nb_cst)).transpose())\n",
    "        setattr(self, \"demand_test\", rv.rvs((90, instance.nb_cst)).transpose())\n",
    "\n",
    "    def save(self):\n",
    "        with open(self.idx + '.json', 'w') as fp:\n",
    "            json.dump(instance.__dict__, fp, cls = NpEncoder)  "
   ]
  },
  {
   "cell_type": "code",
   "execution_count": 6,
   "id": "9c1220d7-9a53-497a-91b4-1c8f1b7e4fda",
   "metadata": {},
   "outputs": [],
   "source": [
    "for i in range(1):\n",
    "    instance = Instance(pattern='normal', nb_cst=40)\n",
    "    instance.create()\n",
    "    instance.save()"
   ]
  },
  {
   "cell_type": "code",
   "execution_count": null,
   "id": "bcb9b1c5-5ee9-4827-a256-9abc1a771b83",
   "metadata": {},
   "outputs": [],
   "source": []
  }
 ],
 "metadata": {
  "kernelspec": {
   "display_name": "DSIRP",
   "language": "python",
   "name": "dsirp"
  },
  "language_info": {
   "codemirror_mode": {
    "name": "ipython",
    "version": 3
   },
   "file_extension": ".py",
   "mimetype": "text/x-python",
   "name": "python",
   "nbconvert_exporter": "python",
   "pygments_lexer": "ipython3",
   "version": "3.10.4"
  }
 },
 "nbformat": 4,
 "nbformat_minor": 5
}
